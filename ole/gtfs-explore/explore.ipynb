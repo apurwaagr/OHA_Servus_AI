{
 "cells": [
  {
   "cell_type": "code",
   "execution_count": 3,
   "id": "9143559d",
   "metadata": {},
   "outputs": [
    {
     "name": "stdout",
     "output_type": "stream",
     "text": [
      "Files in GTFS archive:\n",
      "['agency.txt', 'routes.txt', 'trips.txt', 'stops.txt', 'calendar.txt', 'calendar_dates.txt', 'transfers.txt', 'stop_times.txt']\n",
      "\n",
      "First 5 stops:\n",
      "              stop_id                        stop_name   stop_lat   stop_lon  \\\n",
      "0  de:08127:10612:1:1  Ellrichshausen Abzw. Birkelbach  49.175572  10.142572   \n",
      "1  de:08127:10612:1:2  Ellrichshausen Abzw. Birkelbach  49.175625  10.142474   \n",
      "2  de:08127:20118:0:1          Westgartshausen Rathaus  49.125382  10.123591   \n",
      "3  de:08127:20118:0:2          Westgartshausen Rathaus  49.125341  10.123663   \n",
      "4  de:08127:20119:0:1        Westgartshausen Hügelstr.  49.123583  10.121525   \n",
      "\n",
      "   location_type        parent_station  \n",
      "0            NaN  Parentde:08127:10612  \n",
      "1            NaN  Parentde:08127:10612  \n",
      "2            NaN                   NaN  \n",
      "3            NaN                   NaN  \n",
      "4            NaN                   NaN  \n"
     ]
    },
    {
     "data": {
      "application/vnd.microsoft.datawrangler.viewer.v0+json": {
       "columns": [
        {
         "name": "index",
         "rawType": "int64",
         "type": "integer"
        },
        {
         "name": "stop_id",
         "rawType": "object",
         "type": "string"
        },
        {
         "name": "stop_name",
         "rawType": "object",
         "type": "string"
        },
        {
         "name": "stop_lat",
         "rawType": "float64",
         "type": "float"
        },
        {
         "name": "stop_lon",
         "rawType": "float64",
         "type": "float"
        },
        {
         "name": "location_type",
         "rawType": "float64",
         "type": "float"
        },
        {
         "name": "parent_station",
         "rawType": "object",
         "type": "unknown"
        }
       ],
       "ref": "2dc88a48-7ddb-48ee-8a0c-c3c12d79ce32",
       "rows": [
        [
         "0",
         "de:08127:10612:1:1",
         "Ellrichshausen Abzw. Birkelbach",
         "49.17557219",
         "10.14257245",
         null,
         "Parentde:08127:10612"
        ],
        [
         "1",
         "de:08127:10612:1:2",
         "Ellrichshausen Abzw. Birkelbach",
         "49.17562505",
         "10.14247363",
         null,
         "Parentde:08127:10612"
        ],
        [
         "2",
         "de:08127:20118:0:1",
         "Westgartshausen Rathaus",
         "49.12538237",
         "10.12359104",
         null,
         null
        ],
        [
         "3",
         "de:08127:20118:0:2",
         "Westgartshausen Rathaus",
         "49.12534122",
         "10.12366291",
         null,
         null
        ],
        [
         "4",
         "de:08127:20119:0:1",
         "Westgartshausen Hügelstr.",
         "49.12358348",
         "10.12152492",
         null,
         null
        ],
        [
         "5",
         "de:08127:20209:0:1",
         "Crailsheim ZOB",
         "49.13766131",
         "10.06754515",
         null,
         "Parentde:08127:20209"
        ],
        [
         "6",
         "de:08127:20209:0:2",
         "Crailsheim ZOB",
         "49.13766131",
         "10.06741939",
         null,
         "Parentde:08127:20209"
        ],
        [
         "7",
         "de:08127:20209:0:3",
         "Crailsheim ZOB",
         "49.13766718",
         "10.06732057",
         null,
         "Parentde:08127:20209"
        ],
        [
         "8",
         "de:08127:20209:0:4",
         "Crailsheim ZOB",
         "49.13767306",
         "10.06722176",
         null,
         "Parentde:08127:20209"
        ],
        [
         "9",
         "de:08127:20209:0:5",
         "Crailsheim ZOB",
         "49.13768482",
         "10.06712295",
         null,
         "Parentde:08127:20209"
        ],
        [
         "10",
         "de:08127:20209:0:6",
         "Crailsheim ZOB",
         "49.13768482",
         "10.06701515",
         null,
         "Parentde:08127:20209"
        ],
        [
         "11",
         "de:08127:20209:0:7",
         "Crailsheim ZOB",
         "49.13769069",
         "10.06689837",
         null,
         "Parentde:08127:20209"
        ],
        [
         "12",
         "de:08127:20210:0:1",
         "Altenmünster (CRH) Jägerhaus",
         "49.13258317",
         "10.06157136",
         null,
         null
        ],
        [
         "13",
         "de:08127:20210:0:2",
         "Altenmünster (CRH) Jägerhaus",
         "49.1326537",
         "10.06150847",
         null,
         null
        ],
        [
         "14",
         "de:08127:20212:0:1",
         "Crailsheim Bhf-Str./ Bayer. Hof",
         "49.14068208",
         "10.06531733",
         null,
         null
        ],
        [
         "15",
         "de:08127:20212:0:2",
         "Crailsheim Bhf-Str./ Bayer. Hof",
         "49.14080549",
         "10.06482326",
         null,
         null
        ],
        [
         "16",
         "de:08127:20213:0:1",
         "Crailsheim Haller Str.",
         "49.14245685",
         "10.05152819",
         null,
         null
        ],
        [
         "17",
         "de:08127:20213:0:2",
         "Crailsheim Haller Str.",
         "49.14239808",
         "10.05117785",
         null,
         null
        ],
        [
         "18",
         "de:08127:20214:0:1",
         "Roßfeld (b. Crailsh.) Haller Str.",
         "49.13866042",
         "10.02433619",
         null,
         null
        ],
        [
         "19",
         "de:08127:20214:0:2",
         "Roßfeld (b. Crailsh.) Haller Str.",
         "49.1386898",
         "10.02252159",
         null,
         null
        ],
        [
         "20",
         "de:08127:20215:0:2",
         "Roßfeld (b. Crailsh.) Ortsmitte",
         "49.13875445",
         "10.02291685",
         null,
         null
        ],
        [
         "21",
         "de:08127:20216:0:1",
         "Crailsheim Bildstr.",
         "49.12344239",
         "10.08201701",
         null,
         null
        ],
        [
         "22",
         "de:08127:20216:0:2",
         "Crailsheim Bildstr.",
         "49.12250176",
         "10.0819182",
         null,
         null
        ],
        [
         "23",
         "de:08127:20217:0:1",
         "Crailsheim Berliner Platz",
         "49.13093737",
         "10.08411009",
         null,
         null
        ],
        [
         "24",
         "de:08127:20217:0:2",
         "Crailsheim Berliner Platz",
         "49.13076103",
         "10.08397534",
         null,
         null
        ],
        [
         "25",
         "de:08127:20218:0:1",
         "Crailsheim Pamiersring/ Porschestr.",
         "49.14018255",
         "10.08450535",
         null,
         null
        ],
        [
         "26",
         "de:08127:20218:0:2",
         "Crailsheim Pamiersring/ Porschestr.",
         "49.14002387",
         "10.08434365",
         null,
         null
        ],
        [
         "27",
         "de:08127:20219:0:1",
         "Crailsheim Schulzentrum",
         "49.1418398",
         "10.07297996",
         null,
         null
        ],
        [
         "28",
         "de:08127:20219:0:2",
         "Crailsheim Schulzentrum",
         "49.14091128",
         "10.07315064",
         null,
         null
        ],
        [
         "29",
         "de:08127:20220:0:1",
         "Crailsheim Ellwanger Str.",
         "49.13039659",
         "10.07792968",
         null,
         null
        ],
        [
         "30",
         "de:08127:20220:0:2",
         "Crailsheim Ellwanger Str.",
         "49.13020849",
         "10.07782188",
         null,
         null
        ],
        [
         "31",
         "de:08127:20221:0:2",
         "Ingersheim (b. Crailsh.) Am Welschen Brunnen",
         "49.1242713",
         "10.0799958",
         null,
         null
        ],
        [
         "32",
         "de:08127:20222:0:1",
         "Ingersheim (b. Crailsh.) Kirche",
         "49.12303675",
         "10.07581864",
         null,
         null
        ],
        [
         "33",
         "de:08127:20223:0:1",
         "Ingersheim (b. Crailsh.) Schule",
         "49.1214259",
         "10.08120853",
         null,
         null
        ],
        [
         "34",
         "de:08127:20223:0:2",
         "Ingersheim (b. Crailsh.) Schule",
         "49.1212554",
         "10.08129836",
         null,
         null
        ],
        [
         "35",
         "de:08127:20224:0:1",
         "Crailsheim Rathaus",
         "49.13729692",
         "10.0716774",
         null,
         null
        ],
        [
         "36",
         "de:08127:20226:0:1",
         "Crailsheim Tiefenbacher Str.",
         "49.14285058",
         "10.05809488",
         null,
         null
        ],
        [
         "37",
         "de:08127:20226:0:2",
         "Crailsheim Tiefenbacher Str.",
         "49.1429211",
         "10.05772657",
         null,
         null
        ],
        [
         "38",
         "de:08127:20227:0:1",
         "Crailsheim St.-Martin-Str.",
         "49.14654092",
         "10.05240854",
         null,
         null
        ],
        [
         "39",
         "de:08127:20228:0:1",
         "Crailsheim Roter Buck",
         "49.14608258",
         "10.04913867",
         null,
         null
        ],
        [
         "40",
         "de:08127:20228:0:2",
         "Crailsheim Roter Buck",
         "49.14601794",
         "10.04943512",
         null,
         null
        ],
        [
         "41",
         "de:08127:20229:0:1",
         "Crailsheim Westring/ Mozartstr.",
         "49.14573001",
         "10.04560829",
         null,
         null
        ],
        [
         "42",
         "de:08127:20229:0:2",
         "Crailsheim Westring/ Mozartstr.",
         "49.14580052",
         "10.04553643",
         null,
         null
        ],
        [
         "43",
         "de:08127:20232:0:1",
         "Crailsheim Eichendorff-Schule",
         "49.14031772",
         "10.05663961",
         null,
         null
        ],
        [
         "44",
         "de:08127:20232:0:2",
         "Crailsheim Eichendorff-Schule",
         "49.14011203",
         "10.0576008",
         null,
         null
        ],
        [
         "45",
         "de:08127:20233:0:2",
         "Crailsheim Breslauer Str.",
         "49.13958898",
         "10.0594693",
         null,
         null
        ],
        [
         "46",
         "de:08127:20234:0:1",
         "Crailsheim Wilhelmstr.",
         "49.13925987",
         "10.0702401",
         null,
         null
        ],
        [
         "47",
         "de:08127:20234:0:2",
         "Crailsheim Wilhelmstr.",
         "49.13900128",
         "10.07009637",
         null,
         null
        ],
        [
         "48",
         "de:08127:20235:0:1",
         "Crailsheim Pamiersring/ Hammersbachweg",
         "49.13437586",
         "10.08268177",
         null,
         null
        ],
        [
         "49",
         "de:08127:20235:0:2",
         "Crailsheim Pamiersring/ Hammersbachweg",
         "49.13435823",
         "10.08256498",
         null,
         null
        ]
       ],
       "shape": {
        "columns": 6,
        "rows": 23995
       }
      },
      "text/html": [
       "<div>\n",
       "<style scoped>\n",
       "    .dataframe tbody tr th:only-of-type {\n",
       "        vertical-align: middle;\n",
       "    }\n",
       "\n",
       "    .dataframe tbody tr th {\n",
       "        vertical-align: top;\n",
       "    }\n",
       "\n",
       "    .dataframe thead th {\n",
       "        text-align: right;\n",
       "    }\n",
       "</style>\n",
       "<table border=\"1\" class=\"dataframe\">\n",
       "  <thead>\n",
       "    <tr style=\"text-align: right;\">\n",
       "      <th></th>\n",
       "      <th>stop_id</th>\n",
       "      <th>stop_name</th>\n",
       "      <th>stop_lat</th>\n",
       "      <th>stop_lon</th>\n",
       "      <th>location_type</th>\n",
       "      <th>parent_station</th>\n",
       "    </tr>\n",
       "  </thead>\n",
       "  <tbody>\n",
       "    <tr>\n",
       "      <th>0</th>\n",
       "      <td>de:08127:10612:1:1</td>\n",
       "      <td>Ellrichshausen Abzw. Birkelbach</td>\n",
       "      <td>49.175572</td>\n",
       "      <td>10.142572</td>\n",
       "      <td>NaN</td>\n",
       "      <td>Parentde:08127:10612</td>\n",
       "    </tr>\n",
       "    <tr>\n",
       "      <th>1</th>\n",
       "      <td>de:08127:10612:1:2</td>\n",
       "      <td>Ellrichshausen Abzw. Birkelbach</td>\n",
       "      <td>49.175625</td>\n",
       "      <td>10.142474</td>\n",
       "      <td>NaN</td>\n",
       "      <td>Parentde:08127:10612</td>\n",
       "    </tr>\n",
       "    <tr>\n",
       "      <th>2</th>\n",
       "      <td>de:08127:20118:0:1</td>\n",
       "      <td>Westgartshausen Rathaus</td>\n",
       "      <td>49.125382</td>\n",
       "      <td>10.123591</td>\n",
       "      <td>NaN</td>\n",
       "      <td>NaN</td>\n",
       "    </tr>\n",
       "    <tr>\n",
       "      <th>3</th>\n",
       "      <td>de:08127:20118:0:2</td>\n",
       "      <td>Westgartshausen Rathaus</td>\n",
       "      <td>49.125341</td>\n",
       "      <td>10.123663</td>\n",
       "      <td>NaN</td>\n",
       "      <td>NaN</td>\n",
       "    </tr>\n",
       "    <tr>\n",
       "      <th>4</th>\n",
       "      <td>de:08127:20119:0:1</td>\n",
       "      <td>Westgartshausen Hügelstr.</td>\n",
       "      <td>49.123583</td>\n",
       "      <td>10.121525</td>\n",
       "      <td>NaN</td>\n",
       "      <td>NaN</td>\n",
       "    </tr>\n",
       "    <tr>\n",
       "      <th>...</th>\n",
       "      <td>...</td>\n",
       "      <td>...</td>\n",
       "      <td>...</td>\n",
       "      <td>...</td>\n",
       "      <td>...</td>\n",
       "      <td>...</td>\n",
       "    </tr>\n",
       "    <tr>\n",
       "      <th>23990</th>\n",
       "      <td>Parentde:09675:29393</td>\n",
       "      <td>Abtei</td>\n",
       "      <td>49.804458</td>\n",
       "      <td>10.227993</td>\n",
       "      <td>1.0</td>\n",
       "      <td>NaN</td>\n",
       "    </tr>\n",
       "    <tr>\n",
       "      <th>23991</th>\n",
       "      <td>Parentde:09675:29593</td>\n",
       "      <td>Marktbreit</td>\n",
       "      <td>49.663770</td>\n",
       "      <td>10.146040</td>\n",
       "      <td>1.0</td>\n",
       "      <td>NaN</td>\n",
       "    </tr>\n",
       "    <tr>\n",
       "      <th>23992</th>\n",
       "      <td>Parentde:09675:4414</td>\n",
       "      <td>Iphofen</td>\n",
       "      <td>49.696721</td>\n",
       "      <td>10.255230</td>\n",
       "      <td>1.0</td>\n",
       "      <td>NaN</td>\n",
       "    </tr>\n",
       "    <tr>\n",
       "      <th>23993</th>\n",
       "      <td>Parentde:09779:6459</td>\n",
       "      <td>Otting-Weilheim</td>\n",
       "      <td>48.880642</td>\n",
       "      <td>10.818662</td>\n",
       "      <td>1.0</td>\n",
       "      <td>NaN</td>\n",
       "    </tr>\n",
       "    <tr>\n",
       "      <th>23994</th>\n",
       "      <td>Parentde:16072:8013008</td>\n",
       "      <td>Sonneberg (Thür) Hbf</td>\n",
       "      <td>50.355080</td>\n",
       "      <td>11.168844</td>\n",
       "      <td>1.0</td>\n",
       "      <td>NaN</td>\n",
       "    </tr>\n",
       "  </tbody>\n",
       "</table>\n",
       "<p>23995 rows × 6 columns</p>\n",
       "</div>"
      ],
      "text/plain": [
       "                      stop_id                        stop_name   stop_lat  \\\n",
       "0          de:08127:10612:1:1  Ellrichshausen Abzw. Birkelbach  49.175572   \n",
       "1          de:08127:10612:1:2  Ellrichshausen Abzw. Birkelbach  49.175625   \n",
       "2          de:08127:20118:0:1          Westgartshausen Rathaus  49.125382   \n",
       "3          de:08127:20118:0:2          Westgartshausen Rathaus  49.125341   \n",
       "4          de:08127:20119:0:1        Westgartshausen Hügelstr.  49.123583   \n",
       "...                       ...                              ...        ...   \n",
       "23990    Parentde:09675:29393                            Abtei  49.804458   \n",
       "23991    Parentde:09675:29593                       Marktbreit  49.663770   \n",
       "23992     Parentde:09675:4414                          Iphofen  49.696721   \n",
       "23993     Parentde:09779:6459                  Otting-Weilheim  48.880642   \n",
       "23994  Parentde:16072:8013008             Sonneberg (Thür) Hbf  50.355080   \n",
       "\n",
       "        stop_lon  location_type        parent_station  \n",
       "0      10.142572            NaN  Parentde:08127:10612  \n",
       "1      10.142474            NaN  Parentde:08127:10612  \n",
       "2      10.123591            NaN                   NaN  \n",
       "3      10.123663            NaN                   NaN  \n",
       "4      10.121525            NaN                   NaN  \n",
       "...          ...            ...                   ...  \n",
       "23990  10.227993            1.0                   NaN  \n",
       "23991  10.146040            1.0                   NaN  \n",
       "23992  10.255230            1.0                   NaN  \n",
       "23993  10.818662            1.0                   NaN  \n",
       "23994  11.168844            1.0                   NaN  \n",
       "\n",
       "[23995 rows x 6 columns]"
      ]
     },
     "execution_count": 3,
     "metadata": {},
     "output_type": "execute_result"
    }
   ],
   "source": [
    "import pandas as pd\n",
    "import zipfile\n",
    "\n",
    "# Path to the GTFS zip file\n",
    "zip_path = \"../opentrip-planner/vgn/GTFS.zip\"\n",
    "\n",
    "# List files in the GTFS zip\n",
    "with zipfile.ZipFile(zip_path) as z:\n",
    "    print(\"Files in GTFS archive:\")\n",
    "    print(z.namelist())\n",
    "\n",
    "    # Example: Read stops.txt directly from the zip\n",
    "    if \"stops.txt\" in z.namelist():\n",
    "        with z.open(\"stops.txt\") as f:\n",
    "            stops_df = pd.read_csv(f)\n",
    "            print(\"\\nFirst 5 stops:\")\n",
    "            print(stops_df.head())\n",
    "    else:\n",
    "        print(\"stops.txt not found in the archive.\")\n",
    "\n",
    "stops_df"
   ]
  }
 ],
 "metadata": {
  "kernelspec": {
   "display_name": "servus_ai",
   "language": "python",
   "name": "python3"
  },
  "language_info": {
   "codemirror_mode": {
    "name": "ipython",
    "version": 3
   },
   "file_extension": ".py",
   "mimetype": "text/x-python",
   "name": "python",
   "nbconvert_exporter": "python",
   "pygments_lexer": "ipython3",
   "version": "3.13.5"
  }
 },
 "nbformat": 4,
 "nbformat_minor": 5
}
