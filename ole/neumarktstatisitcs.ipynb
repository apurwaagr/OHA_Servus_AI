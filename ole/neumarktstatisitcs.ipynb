{
 "cells": [
  {
   "cell_type": "code",
   "execution_count": 1,
   "id": "576ed3d9",
   "metadata": {},
   "outputs": [
    {
     "name": "stdout",
     "output_type": "stream",
     "text": [
      "Loaded parquet files: ['calendar_dates', 'transfers', 'feed_info', 'stops', 'routes', 'agency', 'trips', 'stop_times', 'calendar']\n"
     ]
    }
   ],
   "source": [
    "import os\n",
    "import pandas as pd\n",
    "\n",
    "# Path to the folder containing the parquet files\n",
    "parquet_folder = 'neumarkt_parquet'\n",
    "\n",
    "# List all .parquet files in the folder\n",
    "parquet_files = [f for f in os.listdir(parquet_folder) if f.endswith('.parquet')]\n",
    "\n",
    "# Load each parquet file into a DataFrame and store in a dictionary\n",
    "schedule = {}\n",
    "for file in parquet_files:\n",
    "    key = file.replace('.parquet', '')\n",
    "    schedule[key] = pd.read_parquet(os.path.join(parquet_folder, file))\n",
    "\n",
    "# Show the keys loaded\n",
    "print('Loaded parquet files:', list(schedule.keys()))"
   ]
  },
  {
   "cell_type": "code",
   "execution_count": 3,
   "id": "90565f88",
   "metadata": {},
   "outputs": [
    {
     "data": {
      "application/vnd.microsoft.datawrangler.viewer.v0+json": {
       "columns": [
        {
         "name": "index",
         "rawType": "int64",
         "type": "integer"
        },
        {
         "name": "linie",
         "rawType": "int64",
         "type": "integer"
        },
        {
         "name": "stop_name",
         "rawType": "object",
         "type": "string"
        },
        {
         "name": "weekday",
         "rawType": "float64",
         "type": "float"
        },
        {
         "name": "average",
         "rawType": "float64",
         "type": "float"
        },
        {
         "name": "stop_id",
         "rawType": "object",
         "type": "string"
        }
       ],
       "ref": "e2a77416-5284-4aad-8707-9157a96c29f2",
       "rows": [
        [
         "0",
         "561",
         "Rittershof Ahntweg",
         "8.7",
         "8.7",
         "de:09373:17157:0:1"
        ],
        [
         "1",
         "561",
         "Pölling Bergstr.",
         "16.3",
         "16.3",
         "de:09373:17171:0:1"
        ],
        [
         "2",
         "561",
         "Pölling Fliederweg",
         "18.3",
         "18.3",
         "de:09373:17174:0:1"
        ],
        [
         "3",
         "561",
         "Neumarkt Flugplatz",
         "8.8",
         "8.8",
         "de:09373:17033:0:1"
        ],
        [
         "4",
         "561",
         "Pölling Gasthof Feihl",
         "50.6",
         "50.6",
         "de:09373:17175:0:1"
        ]
       ],
       "shape": {
        "columns": 5,
        "rows": 5
       }
      },
      "text/html": [
       "<div>\n",
       "<style scoped>\n",
       "    .dataframe tbody tr th:only-of-type {\n",
       "        vertical-align: middle;\n",
       "    }\n",
       "\n",
       "    .dataframe tbody tr th {\n",
       "        vertical-align: top;\n",
       "    }\n",
       "\n",
       "    .dataframe thead th {\n",
       "        text-align: right;\n",
       "    }\n",
       "</style>\n",
       "<table border=\"1\" class=\"dataframe\">\n",
       "  <thead>\n",
       "    <tr style=\"text-align: right;\">\n",
       "      <th></th>\n",
       "      <th>linie</th>\n",
       "      <th>stop_name</th>\n",
       "      <th>weekday</th>\n",
       "      <th>average</th>\n",
       "      <th>stop_id</th>\n",
       "    </tr>\n",
       "  </thead>\n",
       "  <tbody>\n",
       "    <tr>\n",
       "      <th>0</th>\n",
       "      <td>561</td>\n",
       "      <td>Rittershof Ahntweg</td>\n",
       "      <td>8.7</td>\n",
       "      <td>8.7</td>\n",
       "      <td>de:09373:17157:0:1</td>\n",
       "    </tr>\n",
       "    <tr>\n",
       "      <th>1</th>\n",
       "      <td>561</td>\n",
       "      <td>Pölling Bergstr.</td>\n",
       "      <td>16.3</td>\n",
       "      <td>16.3</td>\n",
       "      <td>de:09373:17171:0:1</td>\n",
       "    </tr>\n",
       "    <tr>\n",
       "      <th>2</th>\n",
       "      <td>561</td>\n",
       "      <td>Pölling Fliederweg</td>\n",
       "      <td>18.3</td>\n",
       "      <td>18.3</td>\n",
       "      <td>de:09373:17174:0:1</td>\n",
       "    </tr>\n",
       "    <tr>\n",
       "      <th>3</th>\n",
       "      <td>561</td>\n",
       "      <td>Neumarkt Flugplatz</td>\n",
       "      <td>8.8</td>\n",
       "      <td>8.8</td>\n",
       "      <td>de:09373:17033:0:1</td>\n",
       "    </tr>\n",
       "    <tr>\n",
       "      <th>4</th>\n",
       "      <td>561</td>\n",
       "      <td>Pölling Gasthof Feihl</td>\n",
       "      <td>50.6</td>\n",
       "      <td>50.6</td>\n",
       "      <td>de:09373:17175:0:1</td>\n",
       "    </tr>\n",
       "  </tbody>\n",
       "</table>\n",
       "</div>"
      ],
      "text/plain": [
       "   linie              stop_name  weekday  average             stop_id\n",
       "0    561     Rittershof Ahntweg      8.7      8.7  de:09373:17157:0:1\n",
       "1    561       Pölling Bergstr.     16.3     16.3  de:09373:17171:0:1\n",
       "2    561     Pölling Fliederweg     18.3     18.3  de:09373:17174:0:1\n",
       "3    561     Neumarkt Flugplatz      8.8      8.8  de:09373:17033:0:1\n",
       "4    561  Pölling Gasthof Feihl     50.6     50.6  de:09373:17175:0:1"
      ]
     },
     "execution_count": 3,
     "metadata": {},
     "output_type": "execute_result"
    }
   ],
   "source": [
    "busy_stop = pd.read_csv(\"busy_stops.csv\")\n",
    "busy_stop = busy_stop.rename(columns={\"stop\":\"stop_name\"})\n",
    "\n",
    "# Get the stops dataframe from the loaded parquet files\n",
    "stops_df = schedule['stops']\n",
    "\n",
    "def find_stop_id(busy_name):\n",
    "    match = stops_df[stops_df['stop_name'] == busy_name]\n",
    "    if not match.empty:\n",
    "        return match.iloc[0]['stop_id']\n",
    "    print(f\"fail {busy_name}\")\n",
    "    return None\n",
    "\n",
    "stop_mapping = {\n",
    "    \"Ahntweg\": \"Rittershof Ahntweg\",\n",
    "    \"Bergstr. (Pölling)\": \"Pölling Bergstr.\",\n",
    "    \"Fliederweg\": \"Pölling Fliederweg\",\n",
    "    \"Flugplatz\": \"Neumarkt Flugplatz\",\n",
    "    \"Gasthof Feihl (Pölling)\": \"Pölling Gasthof Feihl\",\n",
    "    \"Johanneszentrum\": \"Neumarkt Johanneszentrum\",\n",
    "    \"Kapellenweg (Rittershof)\": \"Rittershof Kapellenweg\",\n",
    "    \"Klinikum\": \"Neumarkt Klinikum\",\n",
    "    \"Kreuzstr.\": \"Woffenbach Kreuzstr.\",\n",
    "    \"Landratsamt\": \"Neumarkt Landratsamt\",\n",
    "    \"Marienbader Str.\": \"Pölling Marienbader Str.\",\n",
    "    \"Meuselstr.\": \"Woffenbach Meuselstr.\",\n",
    "    \"Neumarkt Bahnhof\": \"Neumarkt (OPf) Bf\",\n",
    "    \"Nibelungenstr.\": \"Pölling Nibelungenstr.\",\n",
    "    \"Nürnberger Str.\": \"Neumarkt Nürnberger Str.\",\n",
    "    \"Oberer Markt\": \"Neumarkt Oberer Markt\",\n",
    "    \"Pöllinger Höhe\": \"Neumarkt Pöllinger Höhe\",\n",
    "    \"Rathaus\": \"Neumarkt Rathaus\",\n",
    "    \"Siedlerstr. (Pölling)\": \"Pölling Siedlerstr.\",\n",
    "    \"Siegfriedstr. (Pölling)\": \"Pölling Siegfriedstr.\",\n",
    "    \"Stadtweg (Pölling)\": \"Pölling Stadtweg\",\n",
    "    \"Volksfestplatz\": \"Neumarkt Volksfestplatz\",\n",
    "    \"Woffenbacher Str.\": \"Neumarkt Woffenbacher Str.\",\n",
    "    \"Am Sand\": \"Holzheim (b.NM) Am Sand\",\n",
    "    \"Heiligenwiesen\": \"Holzheim (b.NM) Heiligenwiesen\",\n",
    "    \"Holzheim Schule\": \"Holzheim (b.NM) Schule\",\n",
    "    \"Maienbreite\": \"Holzheim (b.NM) Maienbreite\",\n",
    "    \"St.-Anna-Str.\": \"Neumarkt St.-Anna-Str.\",\n",
    "    \"Triftstr.\": \"Holzheim (b.NM) Triftstr.\",\n",
    "    \"Altdorfer Str.\": \"Neumarkt Altdorfer Str.\",\n",
    "    \"Altenhof Geschäftszentrum\": \"Altenhof (NM) Geschäftszentrum\",\n",
    "    \"Altenhofweg\": \"Altenhof (b.NM) Altenhofweg\",\n",
    "    \"Am Evangelienstein\": \"Neumarkt Am Evangelienstein\",\n",
    "    \"Breslauer Str.\": \"Altenhof (b.NM) Breslauer Str.\",\n",
    "    \"Eichendorffstr.\": \"Altenhof (b.NM) Eichendorffstr\",\n",
    "    \"Hermann-Stehr-Str.\": \"Altenhof (b.NM) H.-Stehr-Str.\",\n",
    "    \"Johann-Mois-Ring\": \"Altenhof (b.NM) Joh.-Mois-Ring\",\n",
    "    \"Koppenmühlweg\": \"Altenhof (b.NM) Koppenmühlweg\",\n",
    "    \"Kornstr.\": \"Neumarkt Kornstr.\",\n",
    "    \"Landesgartenschau\": \"Neumarkt Landesgartenschau\",\n",
    "    \"Milchhofstr.\": \"Neumarkt Milchhofstr.\",\n",
    "    \"Neuer Markt\": \"Neumarkt Neuer Markt\",\n",
    "    \"Abzw. Regerstr.\": \"Neumarkt Abzw. Regerstr.\",\n",
    "    \"Amberger Str.\": \"Neumarkt Amberger Str.\",\n",
    "    \"EFA-Str.\": \"Neumarkt EFA-Str.\",\n",
    "    \"Faberpark\": \"Neumarkt Faberpark\",\n",
    "    \"Heideweg\": \"Neumarkt Heideweg\",\n",
    "    \"Kapuzinerhölzl\": \"Neumarkt Kapuzinerhölzl\",\n",
    "    \"Karl-Speier-Str.\": \"Neumarkt Karl-Speier-Str.\",\n",
    "    \"Klostertor\": \"Neumarkt Klostertor\",\n",
    "}\n",
    "\n",
    "busy_stop[\"stop_name\"] = busy_stop[\"stop_name\"].replace(stop_mapping)\n",
    "\n",
    "busy_stop['stop_id'] = busy_stop['stop_name'].apply(find_stop_id)\n",
    "\n",
    "busy_stop.head()"
   ]
  },
  {
   "cell_type": "code",
   "execution_count": null,
   "id": "fce4dc75",
   "metadata": {},
   "outputs": [],
   "source": []
  }
 ],
 "metadata": {
  "kernelspec": {
   "display_name": "servus_ai",
   "language": "python",
   "name": "python3"
  },
  "language_info": {
   "codemirror_mode": {
    "name": "ipython",
    "version": 3
   },
   "file_extension": ".py",
   "mimetype": "text/x-python",
   "name": "python",
   "nbconvert_exporter": "python",
   "pygments_lexer": "ipython3",
   "version": "3.13.5"
  }
 },
 "nbformat": 4,
 "nbformat_minor": 5
}
